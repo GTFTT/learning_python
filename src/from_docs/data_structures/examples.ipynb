{
 "cells": [
  {
   "cell_type": "code",
   "id": "initial_id",
   "metadata": {
    "collapsed": true,
    "ExecuteTime": {
     "end_time": "2024-12-20T10:45:16.363201Z",
     "start_time": "2024-12-20T10:45:16.356211Z"
    }
   },
   "source": [
    "a = [1, 2, 3, 4]\n",
    "b = [5, 6, 7,  8]\n",
    "a.extend(b)\n",
    "print(a)\n",
    "print(b)\n",
    "print(a.index(3))"
   ],
   "outputs": [
    {
     "name": "stdout",
     "output_type": "stream",
     "text": [
      "[1, 2, 3, 4, 5, 6, 7, 8]\n",
      "[5, 6, 7, 8]\n",
      "2\n"
     ]
    }
   ],
   "execution_count": 2
  },
  {
   "metadata": {
    "ExecuteTime": {
     "end_time": "2024-12-20T10:56:15.173378Z",
     "start_time": "2024-12-20T10:56:15.166409Z"
    }
   },
   "cell_type": "code",
   "source": [
    "squares = list(map(lambda x: x**2, range(10)))\n",
    "print(squares)\n",
    "squares = [x**2 for x in range(10)]\n",
    "print(squares)"
   ],
   "id": "ad0b53187a6debc0",
   "outputs": [
    {
     "name": "stdout",
     "output_type": "stream",
     "text": [
      "[0, 1, 4, 9, 16, 25, 36, 49, 64, 81]\n",
      "[0, 1, 4, 9, 16, 25, 36, 49, 64, 81]\n"
     ]
    }
   ],
   "execution_count": 4
  },
  {
   "metadata": {
    "ExecuteTime": {
     "end_time": "2024-12-20T10:57:26.126199Z",
     "start_time": "2024-12-20T10:57:26.120781Z"
    }
   },
   "cell_type": "code",
   "source": [
    "# Using two for-loops\n",
    "print([(x, y) for x in [1,2,3] for y in [3,1,4] if x != y])"
   ],
   "id": "6179b438484739f",
   "outputs": [
    {
     "name": "stdout",
     "output_type": "stream",
     "text": [
      "[(1, 3), (1, 4), (2, 3), (2, 1), (2, 4), (3, 1), (3, 4)]\n"
     ]
    }
   ],
   "execution_count": 6
  },
  {
   "metadata": {
    "ExecuteTime": {
     "end_time": "2024-12-20T11:02:02.013351Z",
     "start_time": "2024-12-20T11:02:02.006850Z"
    }
   },
   "cell_type": "code",
   "source": [
    "# Working with multidimensional lists\n",
    "matrix = [\n",
    "    [1, 2, 3, 4],\n",
    "    [5, 6, 7, 8],\n",
    "    [9, 10, 11, 12],\n",
    "]\n",
    "print(list([row[i] for row in matrix] for i in range(len(matrix[0]))))"
   ],
   "id": "65b1db98c2af8c3c",
   "outputs": [
    {
     "name": "stdout",
     "output_type": "stream",
     "text": [
      "[[1, 5, 9], [2, 6, 10], [3, 7, 11], [4, 8, 12]]\n"
     ]
    }
   ],
   "execution_count": 9
  },
  {
   "metadata": {
    "ExecuteTime": {
     "end_time": "2024-12-20T12:09:30.024454Z",
     "start_time": "2024-12-20T12:09:30.018434Z"
    }
   },
   "cell_type": "code",
   "source": [
    "# del keyword\n",
    "a = [1, 2, 3, 4]\n",
    "del a[0]\n",
    "print(a)\n",
    "b = [1, 2, 3, 4, 5, 6, 7, 8, 9, 0]\n",
    "del b[3:9]\n",
    "print(b)"
   ],
   "id": "bf9d4d28e19546e3",
   "outputs": [
    {
     "name": "stdout",
     "output_type": "stream",
     "text": [
      "[2, 3, 4]\n",
      "[1, 2, 3, 0]\n"
     ]
    }
   ],
   "execution_count": 14
  },
  {
   "metadata": {
    "ExecuteTime": {
     "end_time": "2024-12-20T12:17:04.231477Z",
     "start_time": "2024-12-20T12:17:04.225632Z"
    }
   },
   "cell_type": "code",
   "source": [
    "# Picking the first not falsy entry\n",
    "string1, string2, string3 = '', 'Trondheim', 'Hammer Dance'\n",
    "non_null = string1 or string2 or string3\n",
    "non_null"
   ],
   "id": "b485d2c2505ae3a0",
   "outputs": [
    {
     "data": {
      "text/plain": [
       "'Trondheim'"
      ]
     },
     "execution_count": 15,
     "metadata": {},
     "output_type": "execute_result"
    }
   ],
   "execution_count": 15
  }
 ],
 "metadata": {
  "kernelspec": {
   "display_name": "Python 3",
   "language": "python",
   "name": "python3"
  },
  "language_info": {
   "codemirror_mode": {
    "name": "ipython",
    "version": 2
   },
   "file_extension": ".py",
   "mimetype": "text/x-python",
   "name": "python",
   "nbconvert_exporter": "python",
   "pygments_lexer": "ipython2",
   "version": "2.7.6"
  }
 },
 "nbformat": 4,
 "nbformat_minor": 5
}
